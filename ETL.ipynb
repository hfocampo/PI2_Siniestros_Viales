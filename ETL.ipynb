{
 "cells": [
  {
   "cell_type": "code",
   "execution_count": 1,
   "metadata": {},
   "outputs": [],
   "source": [
    "import pandas as pd"
   ]
  },
  {
   "cell_type": "markdown",
   "metadata": {},
   "source": [
    "## Carga del archivo tipo .xlsx y convertimos cada hoja en un archivo tipo .csv"
   ]
  },
  {
   "cell_type": "code",
   "execution_count": 2,
   "metadata": {},
   "outputs": [
    {
     "name": "stdout",
     "output_type": "stream",
     "text": [
      "Archivo csv datasets/HECHOS.csv creado exitosamente\n",
      "Archivo csv datasets/DICCIONARIO_HECHOS.csv creado exitosamente\n",
      "Archivo csv datasets/VICTIMAS.csv creado exitosamente\n",
      "Archivo csv datasets/DICCIONARIO_VICTIMAS.csv creado exitosamente\n",
      "Archivo csv datasets/clas.csv creado exitosamente\n"
     ]
    }
   ],
   "source": [
    "#carga el archivo excel indicándole que lea todas las hojas\n",
    "df_excel = pd.read_excel('datasets/homicidios.xlsx', sheet_name=None)\n",
    "\n",
    "#indica la ruta y carpeta de los dataset del proyecto\n",
    "carpeta_archivos = 'datasets/'\n",
    "\n",
    "#itera sobre el diccionario 'df_excel', donde las claves con los nombres de las hojas de excel y los valores son los Dataframe respectivos     \n",
    "for hoja_excel, df in df_excel.items():\n",
    "    nombre_csv = f'{carpeta_archivos}{hoja_excel}.csv'\n",
    "    df.to_csv(nombre_csv, index = False)\n",
    "    print(f'Archivo csv {nombre_csv} creado exitosamente')   \n"
   ]
  },
  {
   "cell_type": "markdown",
   "metadata": {},
   "source": [
    "### Cargamos los archivos de trabajo 'Hechos' y 'Victimas' para revisión de información"
   ]
  },
  {
   "cell_type": "code",
   "execution_count": 3,
   "metadata": {},
   "outputs": [],
   "source": [
    "df_hechos = pd.read_csv('datasets/Hechos.csv')                     #cargamos el archivo Hechos.csv para el análisis"
   ]
  },
  {
   "cell_type": "code",
   "execution_count": 4,
   "metadata": {},
   "outputs": [],
   "source": [
    "df_victimas = pd.read_csv('datasets/VICTIMAS.csv')                 #cargamos el archivo VICTIMAS.csv para el análisis"
   ]
  },
  {
   "cell_type": "markdown",
   "metadata": {},
   "source": [
    "## ETL SOBRE EL ARCHIVO 'Hechos'"
   ]
  },
  {
   "cell_type": "markdown",
   "metadata": {},
   "source": [
    "### Revisión de la información y tipo de campos"
   ]
  },
  {
   "cell_type": "code",
   "execution_count": 63,
   "metadata": {},
   "outputs": [
    {
     "data": {
      "text/html": [
       "<div>\n",
       "<style scoped>\n",
       "    .dataframe tbody tr th:only-of-type {\n",
       "        vertical-align: middle;\n",
       "    }\n",
       "\n",
       "    .dataframe tbody tr th {\n",
       "        vertical-align: top;\n",
       "    }\n",
       "\n",
       "    .dataframe thead th {\n",
       "        text-align: right;\n",
       "    }\n",
       "</style>\n",
       "<table border=\"1\" class=\"dataframe\">\n",
       "  <thead>\n",
       "    <tr style=\"text-align: right;\">\n",
       "      <th></th>\n",
       "      <th>ID</th>\n",
       "      <th>N_VICTIMAS</th>\n",
       "      <th>FECHA</th>\n",
       "      <th>AAAA</th>\n",
       "      <th>MM</th>\n",
       "      <th>DD</th>\n",
       "      <th>HORA</th>\n",
       "      <th>HH</th>\n",
       "      <th>LUGAR_DEL_HECHO</th>\n",
       "      <th>TIPO_DE_CALLE</th>\n",
       "      <th>...</th>\n",
       "      <th>Altura</th>\n",
       "      <th>Cruce</th>\n",
       "      <th>Dirección Normalizada</th>\n",
       "      <th>COMUNA</th>\n",
       "      <th>XY (CABA)</th>\n",
       "      <th>pos x</th>\n",
       "      <th>pos y</th>\n",
       "      <th>PARTICIPANTES</th>\n",
       "      <th>VICTIMA</th>\n",
       "      <th>ACUSADO</th>\n",
       "    </tr>\n",
       "  </thead>\n",
       "  <tbody>\n",
       "    <tr>\n",
       "      <th>0</th>\n",
       "      <td>2016-0001</td>\n",
       "      <td>1</td>\n",
       "      <td>2016-01-01</td>\n",
       "      <td>2016</td>\n",
       "      <td>1</td>\n",
       "      <td>1</td>\n",
       "      <td>04:00:00</td>\n",
       "      <td>4</td>\n",
       "      <td>AV PIEDRA BUENA Y AV FERNANDEZ DE LA CRUZ</td>\n",
       "      <td>AVENIDA</td>\n",
       "      <td>...</td>\n",
       "      <td>NaN</td>\n",
       "      <td>FERNANDEZ DE LA CRUZ, F., GRAL. AV.</td>\n",
       "      <td>PIEDRA BUENA AV. y FERNANDEZ DE LA CRUZ, F., G...</td>\n",
       "      <td>8</td>\n",
       "      <td>Point (98896.78238426 93532.43437792)</td>\n",
       "      <td>-58.47533969</td>\n",
       "      <td>-34.68757022</td>\n",
       "      <td>MOTO-AUTO</td>\n",
       "      <td>MOTO</td>\n",
       "      <td>AUTO</td>\n",
       "    </tr>\n",
       "    <tr>\n",
       "      <th>1</th>\n",
       "      <td>2016-0002</td>\n",
       "      <td>1</td>\n",
       "      <td>2016-01-02</td>\n",
       "      <td>2016</td>\n",
       "      <td>1</td>\n",
       "      <td>2</td>\n",
       "      <td>01:15:00</td>\n",
       "      <td>1</td>\n",
       "      <td>AV GRAL PAZ  Y AV DE LOS CORRALES</td>\n",
       "      <td>GRAL PAZ</td>\n",
       "      <td>...</td>\n",
       "      <td>NaN</td>\n",
       "      <td>DE LOS CORRALES AV.</td>\n",
       "      <td>PAZ, GRAL. AV. y DE LOS CORRALES AV.</td>\n",
       "      <td>9</td>\n",
       "      <td>Point (95832.05571093 95505.41641999)</td>\n",
       "      <td>-58.50877521</td>\n",
       "      <td>-34.66977709</td>\n",
       "      <td>AUTO-PASAJEROS</td>\n",
       "      <td>AUTO</td>\n",
       "      <td>PASAJEROS</td>\n",
       "    </tr>\n",
       "    <tr>\n",
       "      <th>2</th>\n",
       "      <td>2016-0003</td>\n",
       "      <td>1</td>\n",
       "      <td>2016-01-03</td>\n",
       "      <td>2016</td>\n",
       "      <td>1</td>\n",
       "      <td>3</td>\n",
       "      <td>07:00:00</td>\n",
       "      <td>7</td>\n",
       "      <td>AV ENTRE RIOS 2034</td>\n",
       "      <td>AVENIDA</td>\n",
       "      <td>...</td>\n",
       "      <td>2034.0</td>\n",
       "      <td>NaN</td>\n",
       "      <td>ENTRE RIOS AV. 2034</td>\n",
       "      <td>1</td>\n",
       "      <td>Point (106684.29090040 99706.57687843)</td>\n",
       "      <td>-58.39040293</td>\n",
       "      <td>-34.63189362</td>\n",
       "      <td>MOTO-AUTO</td>\n",
       "      <td>MOTO</td>\n",
       "      <td>AUTO</td>\n",
       "    </tr>\n",
       "    <tr>\n",
       "      <th>3</th>\n",
       "      <td>2016-0004</td>\n",
       "      <td>1</td>\n",
       "      <td>2016-01-10</td>\n",
       "      <td>2016</td>\n",
       "      <td>1</td>\n",
       "      <td>10</td>\n",
       "      <td>00:00:00</td>\n",
       "      <td>0</td>\n",
       "      <td>AV LARRAZABAL Y GRAL VILLEGAS CONRADO</td>\n",
       "      <td>AVENIDA</td>\n",
       "      <td>...</td>\n",
       "      <td>NaN</td>\n",
       "      <td>VILLEGAS, CONRADO, GRAL.</td>\n",
       "      <td>LARRAZABAL AV. y VILLEGAS, CONRADO, GRAL.</td>\n",
       "      <td>8</td>\n",
       "      <td>Point (99840.65224780 94269.16534422)</td>\n",
       "      <td>-58.46503904</td>\n",
       "      <td>-34.68092974</td>\n",
       "      <td>MOTO-SD</td>\n",
       "      <td>MOTO</td>\n",
       "      <td>SD</td>\n",
       "    </tr>\n",
       "  </tbody>\n",
       "</table>\n",
       "<p>4 rows × 21 columns</p>\n",
       "</div>"
      ],
      "text/plain": [
       "          ID  N_VICTIMAS       FECHA  AAAA  MM  DD      HORA HH  \\\n",
       "0  2016-0001           1  2016-01-01  2016   1   1  04:00:00  4   \n",
       "1  2016-0002           1  2016-01-02  2016   1   2  01:15:00  1   \n",
       "2  2016-0003           1  2016-01-03  2016   1   3  07:00:00  7   \n",
       "3  2016-0004           1  2016-01-10  2016   1  10  00:00:00  0   \n",
       "\n",
       "                             LUGAR_DEL_HECHO TIPO_DE_CALLE  ...  Altura  \\\n",
       "0  AV PIEDRA BUENA Y AV FERNANDEZ DE LA CRUZ       AVENIDA  ...     NaN   \n",
       "1          AV GRAL PAZ  Y AV DE LOS CORRALES      GRAL PAZ  ...     NaN   \n",
       "2                         AV ENTRE RIOS 2034       AVENIDA  ...  2034.0   \n",
       "3      AV LARRAZABAL Y GRAL VILLEGAS CONRADO       AVENIDA  ...     NaN   \n",
       "\n",
       "                                 Cruce  \\\n",
       "0  FERNANDEZ DE LA CRUZ, F., GRAL. AV.   \n",
       "1                  DE LOS CORRALES AV.   \n",
       "2                                  NaN   \n",
       "3             VILLEGAS, CONRADO, GRAL.   \n",
       "\n",
       "                               Dirección Normalizada COMUNA  \\\n",
       "0  PIEDRA BUENA AV. y FERNANDEZ DE LA CRUZ, F., G...      8   \n",
       "1               PAZ, GRAL. AV. y DE LOS CORRALES AV.      9   \n",
       "2                                ENTRE RIOS AV. 2034      1   \n",
       "3          LARRAZABAL AV. y VILLEGAS, CONRADO, GRAL.      8   \n",
       "\n",
       "                                XY (CABA)         pos x         pos y  \\\n",
       "0   Point (98896.78238426 93532.43437792)  -58.47533969  -34.68757022   \n",
       "1   Point (95832.05571093 95505.41641999)  -58.50877521  -34.66977709   \n",
       "2  Point (106684.29090040 99706.57687843)  -58.39040293  -34.63189362   \n",
       "3   Point (99840.65224780 94269.16534422)  -58.46503904  -34.68092974   \n",
       "\n",
       "    PARTICIPANTES VICTIMA    ACUSADO  \n",
       "0       MOTO-AUTO    MOTO       AUTO  \n",
       "1  AUTO-PASAJEROS    AUTO  PASAJEROS  \n",
       "2       MOTO-AUTO    MOTO       AUTO  \n",
       "3         MOTO-SD    MOTO         SD  \n",
       "\n",
       "[4 rows x 21 columns]"
      ]
     },
     "execution_count": 63,
     "metadata": {},
     "output_type": "execute_result"
    }
   ],
   "source": [
    "df_hechos.head(4)                                                  #damos una mirada general a la información del archivo"
   ]
  },
  {
   "cell_type": "code",
   "execution_count": 64,
   "metadata": {},
   "outputs": [
    {
     "name": "stdout",
     "output_type": "stream",
     "text": [
      "<class 'pandas.core.frame.DataFrame'>\n",
      "RangeIndex: 696 entries, 0 to 695\n",
      "Data columns (total 21 columns):\n",
      " #   Column                 Non-Null Count  Dtype  \n",
      "---  ------                 --------------  -----  \n",
      " 0   ID                     696 non-null    object \n",
      " 1   N_VICTIMAS             696 non-null    int64  \n",
      " 2   FECHA                  696 non-null    object \n",
      " 3   AAAA                   696 non-null    int64  \n",
      " 4   MM                     696 non-null    int64  \n",
      " 5   DD                     696 non-null    int64  \n",
      " 6   HORA                   696 non-null    object \n",
      " 7   HH                     696 non-null    object \n",
      " 8   LUGAR_DEL_HECHO        696 non-null    object \n",
      " 9   TIPO_DE_CALLE          696 non-null    object \n",
      " 10  Calle                  695 non-null    object \n",
      " 11  Altura                 129 non-null    float64\n",
      " 12  Cruce                  525 non-null    object \n",
      " 13  Dirección Normalizada  688 non-null    object \n",
      " 14  COMUNA                 696 non-null    int64  \n",
      " 15  XY (CABA)              696 non-null    object \n",
      " 16  pos x                  696 non-null    object \n",
      " 17  pos y                  696 non-null    object \n",
      " 18  PARTICIPANTES          696 non-null    object \n",
      " 19  VICTIMA                696 non-null    object \n",
      " 20  ACUSADO                696 non-null    object \n",
      "dtypes: float64(1), int64(5), object(15)\n",
      "memory usage: 114.3+ KB\n"
     ]
    }
   ],
   "source": [
    "df_hechos.info()                                                       #revisamos las columnas y tipo"
   ]
  },
  {
   "cell_type": "markdown",
   "metadata": {},
   "source": [
    "### Eliminamos los registros con valores nulos e identificados en campo 'ID'"
   ]
  },
  {
   "cell_type": "code",
   "execution_count": 5,
   "metadata": {},
   "outputs": [],
   "source": [
    "df_hechos = df_hechos.dropna(subset = ['ID'])                   #eliminamos las filas vacias en el campo ID"
   ]
  },
  {
   "cell_type": "markdown",
   "metadata": {},
   "source": [
    "### Aseguramos consistencia de datos en 'N_VICTIMAS' y 'COMUNA' pasando los datos NaN a 0"
   ]
  },
  {
   "cell_type": "code",
   "execution_count": 6,
   "metadata": {},
   "outputs": [],
   "source": [
    "df_hechos['COMUNA'] = df_hechos['COMUNA'].fillna(0)\n",
    "df_hechos['N_VICTIMAS'] = df_hechos['N_VICTIMAS'].fillna(0)"
   ]
  },
  {
   "cell_type": "markdown",
   "metadata": {},
   "source": [
    "### Eliminamos las columnas que no se requieren"
   ]
  },
  {
   "cell_type": "code",
   "execution_count": 7,
   "metadata": {},
   "outputs": [],
   "source": [
    "eliminar_columnas = ['AAAA', 'MM', 'DD', 'HORA', 'XY (CABA)']\n",
    "df_hechos2 = df_hechos.drop(eliminar_columnas, axis = 1)"
   ]
  },
  {
   "cell_type": "code",
   "execution_count": 70,
   "metadata": {},
   "outputs": [
    {
     "data": {
      "text/plain": [
       "Index(['ID', 'N_VICTIMAS', 'FECHA', 'HH', 'LUGAR_DEL_HECHO', 'TIPO_DE_CALLE',\n",
       "       'Calle', 'Altura', 'Cruce', 'Dirección Normalizada', 'COMUNA', 'pos x',\n",
       "       'pos y', 'PARTICIPANTES', 'VICTIMA', 'ACUSADO'],\n",
       "      dtype='object')"
      ]
     },
     "execution_count": 70,
     "metadata": {},
     "output_type": "execute_result"
    }
   ],
   "source": [
    "df_hechos2.columns                          #Revisamos las columnas resultantes"
   ]
  },
  {
   "cell_type": "code",
   "execution_count": 8,
   "metadata": {},
   "outputs": [
    {
     "data": {
      "text/plain": [
       "0    2016-0001\n",
       "1    2016-0002\n",
       "2    2016-0003\n",
       "3    2016-0004\n",
       "Name: ID, dtype: object"
      ]
     },
     "execution_count": 8,
     "metadata": {},
     "output_type": "execute_result"
    }
   ],
   "source": [
    "df_hechos2['ID'].head(4)                        #verifico la información del campo 'ID' para posterior uninón con el dataset 'VICTIMAS'"
   ]
  },
  {
   "cell_type": "markdown",
   "metadata": {},
   "source": [
    "## ETL sobre el archivo 'VICTIMAS'"
   ]
  },
  {
   "cell_type": "code",
   "execution_count": 9,
   "metadata": {},
   "outputs": [
    {
     "data": {
      "text/html": [
       "<div>\n",
       "<style scoped>\n",
       "    .dataframe tbody tr th:only-of-type {\n",
       "        vertical-align: middle;\n",
       "    }\n",
       "\n",
       "    .dataframe tbody tr th {\n",
       "        vertical-align: top;\n",
       "    }\n",
       "\n",
       "    .dataframe thead th {\n",
       "        text-align: right;\n",
       "    }\n",
       "</style>\n",
       "<table border=\"1\" class=\"dataframe\">\n",
       "  <thead>\n",
       "    <tr style=\"text-align: right;\">\n",
       "      <th></th>\n",
       "      <th>ID_hecho</th>\n",
       "      <th>FECHA</th>\n",
       "      <th>AAAA</th>\n",
       "      <th>MM</th>\n",
       "      <th>DD</th>\n",
       "      <th>ROL</th>\n",
       "      <th>VICTIMA</th>\n",
       "      <th>SEXO</th>\n",
       "      <th>EDAD</th>\n",
       "      <th>FECHA_FALLECIMIENTO</th>\n",
       "    </tr>\n",
       "  </thead>\n",
       "  <tbody>\n",
       "    <tr>\n",
       "      <th>0</th>\n",
       "      <td>2016-0001</td>\n",
       "      <td>2016-01-01</td>\n",
       "      <td>2016</td>\n",
       "      <td>1</td>\n",
       "      <td>1</td>\n",
       "      <td>CONDUCTOR</td>\n",
       "      <td>MOTO</td>\n",
       "      <td>MASCULINO</td>\n",
       "      <td>19</td>\n",
       "      <td>2016-01-01 00:00:00</td>\n",
       "    </tr>\n",
       "    <tr>\n",
       "      <th>1</th>\n",
       "      <td>2016-0002</td>\n",
       "      <td>2016-01-02</td>\n",
       "      <td>2016</td>\n",
       "      <td>1</td>\n",
       "      <td>2</td>\n",
       "      <td>CONDUCTOR</td>\n",
       "      <td>AUTO</td>\n",
       "      <td>MASCULINO</td>\n",
       "      <td>70</td>\n",
       "      <td>2016-01-02 00:00:00</td>\n",
       "    </tr>\n",
       "    <tr>\n",
       "      <th>2</th>\n",
       "      <td>2016-0003</td>\n",
       "      <td>2016-01-03</td>\n",
       "      <td>2016</td>\n",
       "      <td>1</td>\n",
       "      <td>3</td>\n",
       "      <td>CONDUCTOR</td>\n",
       "      <td>MOTO</td>\n",
       "      <td>MASCULINO</td>\n",
       "      <td>30</td>\n",
       "      <td>2016-01-03 00:00:00</td>\n",
       "    </tr>\n",
       "    <tr>\n",
       "      <th>3</th>\n",
       "      <td>2016-0004</td>\n",
       "      <td>2016-01-10</td>\n",
       "      <td>2016</td>\n",
       "      <td>1</td>\n",
       "      <td>10</td>\n",
       "      <td>CONDUCTOR</td>\n",
       "      <td>MOTO</td>\n",
       "      <td>MASCULINO</td>\n",
       "      <td>18</td>\n",
       "      <td>SD</td>\n",
       "    </tr>\n",
       "  </tbody>\n",
       "</table>\n",
       "</div>"
      ],
      "text/plain": [
       "    ID_hecho       FECHA  AAAA  MM  DD        ROL VICTIMA       SEXO EDAD  \\\n",
       "0  2016-0001  2016-01-01  2016   1   1  CONDUCTOR    MOTO  MASCULINO   19   \n",
       "1  2016-0002  2016-01-02  2016   1   2  CONDUCTOR    AUTO  MASCULINO   70   \n",
       "2  2016-0003  2016-01-03  2016   1   3  CONDUCTOR    MOTO  MASCULINO   30   \n",
       "3  2016-0004  2016-01-10  2016   1  10  CONDUCTOR    MOTO  MASCULINO   18   \n",
       "\n",
       "   FECHA_FALLECIMIENTO  \n",
       "0  2016-01-01 00:00:00  \n",
       "1  2016-01-02 00:00:00  \n",
       "2  2016-01-03 00:00:00  \n",
       "3                   SD  "
      ]
     },
     "execution_count": 9,
     "metadata": {},
     "output_type": "execute_result"
    }
   ],
   "source": [
    "df_victimas.head(4)                             #Damos una visual a la información del dataset"
   ]
  },
  {
   "cell_type": "code",
   "execution_count": 10,
   "metadata": {},
   "outputs": [
    {
     "name": "stdout",
     "output_type": "stream",
     "text": [
      "<class 'pandas.core.frame.DataFrame'>\n",
      "RangeIndex: 717 entries, 0 to 716\n",
      "Data columns (total 10 columns):\n",
      " #   Column               Non-Null Count  Dtype \n",
      "---  ------               --------------  ----- \n",
      " 0   ID_hecho             717 non-null    object\n",
      " 1   FECHA                717 non-null    object\n",
      " 2   AAAA                 717 non-null    int64 \n",
      " 3   MM                   717 non-null    int64 \n",
      " 4   DD                   717 non-null    int64 \n",
      " 5   ROL                  717 non-null    object\n",
      " 6   VICTIMA              717 non-null    object\n",
      " 7   SEXO                 717 non-null    object\n",
      " 8   EDAD                 717 non-null    object\n",
      " 9   FECHA_FALLECIMIENTO  717 non-null    object\n",
      "dtypes: int64(3), object(7)\n",
      "memory usage: 56.1+ KB\n"
     ]
    }
   ],
   "source": [
    "df_victimas.info()                      #Revisamos la cantidad y tipo de columnas"
   ]
  },
  {
   "cell_type": "markdown",
   "metadata": {},
   "source": [
    "### Elimino los registros nulos e identificados en campo 'ID_hecho'"
   ]
  },
  {
   "cell_type": "code",
   "execution_count": 11,
   "metadata": {},
   "outputs": [],
   "source": [
    "df_victimas = df_victimas.dropna(subset = ['ID_hecho'])                   #eliminamos las filas vacias en el campo 'ID_hecho'"
   ]
  },
  {
   "cell_type": "markdown",
   "metadata": {},
   "source": [
    "### Eliminamos columnas que no se requieren"
   ]
  },
  {
   "cell_type": "code",
   "execution_count": 13,
   "metadata": {},
   "outputs": [],
   "source": [
    "eliminar_columnas = ['AAAA', 'MM', 'DD']\n",
    "df_victimas2 = df_victimas.drop(eliminar_columnas, axis = 1)"
   ]
  },
  {
   "cell_type": "code",
   "execution_count": 76,
   "metadata": {},
   "outputs": [
    {
     "data": {
      "text/plain": [
       "Index(['ID_hecho', 'FECHA', 'ROL', 'VICTIMA', 'SEXO', 'EDAD',\n",
       "       'FECHA_FALLECIMIENTO'],\n",
       "      dtype='object')"
      ]
     },
     "execution_count": 76,
     "metadata": {},
     "output_type": "execute_result"
    }
   ],
   "source": [
    "df_victimas2.columns                    #Reviso columnas restantes"
   ]
  },
  {
   "cell_type": "markdown",
   "metadata": {},
   "source": [
    "### Renombramos la columna 'ID_hecho' por 'ID'"
   ]
  },
  {
   "cell_type": "code",
   "execution_count": 14,
   "metadata": {},
   "outputs": [],
   "source": [
    "df_victimas2 = df_victimas2.rename(columns={'ID_hecho': 'ID'})"
   ]
  },
  {
   "cell_type": "code",
   "execution_count": 15,
   "metadata": {},
   "outputs": [
    {
     "data": {
      "text/html": [
       "<div>\n",
       "<style scoped>\n",
       "    .dataframe tbody tr th:only-of-type {\n",
       "        vertical-align: middle;\n",
       "    }\n",
       "\n",
       "    .dataframe tbody tr th {\n",
       "        vertical-align: top;\n",
       "    }\n",
       "\n",
       "    .dataframe thead th {\n",
       "        text-align: right;\n",
       "    }\n",
       "</style>\n",
       "<table border=\"1\" class=\"dataframe\">\n",
       "  <thead>\n",
       "    <tr style=\"text-align: right;\">\n",
       "      <th></th>\n",
       "      <th>ID</th>\n",
       "      <th>FECHA</th>\n",
       "      <th>ROL</th>\n",
       "      <th>VICTIMA</th>\n",
       "      <th>SEXO</th>\n",
       "      <th>EDAD</th>\n",
       "      <th>FECHA_FALLECIMIENTO</th>\n",
       "    </tr>\n",
       "  </thead>\n",
       "  <tbody>\n",
       "    <tr>\n",
       "      <th>0</th>\n",
       "      <td>2016-0001</td>\n",
       "      <td>2016-01-01</td>\n",
       "      <td>CONDUCTOR</td>\n",
       "      <td>MOTO</td>\n",
       "      <td>MASCULINO</td>\n",
       "      <td>19</td>\n",
       "      <td>2016-01-01 00:00:00</td>\n",
       "    </tr>\n",
       "    <tr>\n",
       "      <th>1</th>\n",
       "      <td>2016-0002</td>\n",
       "      <td>2016-01-02</td>\n",
       "      <td>CONDUCTOR</td>\n",
       "      <td>AUTO</td>\n",
       "      <td>MASCULINO</td>\n",
       "      <td>70</td>\n",
       "      <td>2016-01-02 00:00:00</td>\n",
       "    </tr>\n",
       "    <tr>\n",
       "      <th>2</th>\n",
       "      <td>2016-0003</td>\n",
       "      <td>2016-01-03</td>\n",
       "      <td>CONDUCTOR</td>\n",
       "      <td>MOTO</td>\n",
       "      <td>MASCULINO</td>\n",
       "      <td>30</td>\n",
       "      <td>2016-01-03 00:00:00</td>\n",
       "    </tr>\n",
       "    <tr>\n",
       "      <th>3</th>\n",
       "      <td>2016-0004</td>\n",
       "      <td>2016-01-10</td>\n",
       "      <td>CONDUCTOR</td>\n",
       "      <td>MOTO</td>\n",
       "      <td>MASCULINO</td>\n",
       "      <td>18</td>\n",
       "      <td>SD</td>\n",
       "    </tr>\n",
       "  </tbody>\n",
       "</table>\n",
       "</div>"
      ],
      "text/plain": [
       "          ID       FECHA        ROL VICTIMA       SEXO EDAD  \\\n",
       "0  2016-0001  2016-01-01  CONDUCTOR    MOTO  MASCULINO   19   \n",
       "1  2016-0002  2016-01-02  CONDUCTOR    AUTO  MASCULINO   70   \n",
       "2  2016-0003  2016-01-03  CONDUCTOR    MOTO  MASCULINO   30   \n",
       "3  2016-0004  2016-01-10  CONDUCTOR    MOTO  MASCULINO   18   \n",
       "\n",
       "   FECHA_FALLECIMIENTO  \n",
       "0  2016-01-01 00:00:00  \n",
       "1  2016-01-02 00:00:00  \n",
       "2  2016-01-03 00:00:00  \n",
       "3                   SD  "
      ]
     },
     "execution_count": 15,
     "metadata": {},
     "output_type": "execute_result"
    }
   ],
   "source": [
    "df_victimas2.head(4)                        #Reviso la información después del cambio"
   ]
  },
  {
   "cell_type": "markdown",
   "metadata": {},
   "source": [
    "## Uno los dos dataframe 'Hechos' y 'Victimas' mediante el campo 'ID'"
   ]
  },
  {
   "cell_type": "code",
   "execution_count": 16,
   "metadata": {},
   "outputs": [],
   "source": [
    "df_union = pd.merge(df_hechos2, df_victimas2, on = 'ID', how = 'inner')     #El merge es sobre el campo 'ID'"
   ]
  },
  {
   "cell_type": "code",
   "execution_count": 17,
   "metadata": {},
   "outputs": [
    {
     "data": {
      "text/html": [
       "<div>\n",
       "<style scoped>\n",
       "    .dataframe tbody tr th:only-of-type {\n",
       "        vertical-align: middle;\n",
       "    }\n",
       "\n",
       "    .dataframe tbody tr th {\n",
       "        vertical-align: top;\n",
       "    }\n",
       "\n",
       "    .dataframe thead th {\n",
       "        text-align: right;\n",
       "    }\n",
       "</style>\n",
       "<table border=\"1\" class=\"dataframe\">\n",
       "  <thead>\n",
       "    <tr style=\"text-align: right;\">\n",
       "      <th></th>\n",
       "      <th>ID</th>\n",
       "      <th>N_VICTIMAS</th>\n",
       "      <th>FECHA_x</th>\n",
       "      <th>HH</th>\n",
       "      <th>LUGAR_DEL_HECHO</th>\n",
       "      <th>TIPO_DE_CALLE</th>\n",
       "      <th>Calle</th>\n",
       "      <th>Altura</th>\n",
       "      <th>Cruce</th>\n",
       "      <th>Dirección Normalizada</th>\n",
       "      <th>...</th>\n",
       "      <th>pos y</th>\n",
       "      <th>PARTICIPANTES</th>\n",
       "      <th>VICTIMA_x</th>\n",
       "      <th>ACUSADO</th>\n",
       "      <th>FECHA_y</th>\n",
       "      <th>ROL</th>\n",
       "      <th>VICTIMA_y</th>\n",
       "      <th>SEXO</th>\n",
       "      <th>EDAD</th>\n",
       "      <th>FECHA_FALLECIMIENTO</th>\n",
       "    </tr>\n",
       "  </thead>\n",
       "  <tbody>\n",
       "    <tr>\n",
       "      <th>0</th>\n",
       "      <td>2016-0001</td>\n",
       "      <td>1</td>\n",
       "      <td>2016-01-01</td>\n",
       "      <td>4</td>\n",
       "      <td>AV PIEDRA BUENA Y AV FERNANDEZ DE LA CRUZ</td>\n",
       "      <td>AVENIDA</td>\n",
       "      <td>PIEDRA BUENA AV.</td>\n",
       "      <td>NaN</td>\n",
       "      <td>FERNANDEZ DE LA CRUZ, F., GRAL. AV.</td>\n",
       "      <td>PIEDRA BUENA AV. y FERNANDEZ DE LA CRUZ, F., G...</td>\n",
       "      <td>...</td>\n",
       "      <td>-34.68757022</td>\n",
       "      <td>MOTO-AUTO</td>\n",
       "      <td>MOTO</td>\n",
       "      <td>AUTO</td>\n",
       "      <td>2016-01-01</td>\n",
       "      <td>CONDUCTOR</td>\n",
       "      <td>MOTO</td>\n",
       "      <td>MASCULINO</td>\n",
       "      <td>19</td>\n",
       "      <td>2016-01-01 00:00:00</td>\n",
       "    </tr>\n",
       "    <tr>\n",
       "      <th>1</th>\n",
       "      <td>2016-0002</td>\n",
       "      <td>1</td>\n",
       "      <td>2016-01-02</td>\n",
       "      <td>1</td>\n",
       "      <td>AV GRAL PAZ  Y AV DE LOS CORRALES</td>\n",
       "      <td>GRAL PAZ</td>\n",
       "      <td>PAZ, GRAL. AV.</td>\n",
       "      <td>NaN</td>\n",
       "      <td>DE LOS CORRALES AV.</td>\n",
       "      <td>PAZ, GRAL. AV. y DE LOS CORRALES AV.</td>\n",
       "      <td>...</td>\n",
       "      <td>-34.66977709</td>\n",
       "      <td>AUTO-PASAJEROS</td>\n",
       "      <td>AUTO</td>\n",
       "      <td>PASAJEROS</td>\n",
       "      <td>2016-01-02</td>\n",
       "      <td>CONDUCTOR</td>\n",
       "      <td>AUTO</td>\n",
       "      <td>MASCULINO</td>\n",
       "      <td>70</td>\n",
       "      <td>2016-01-02 00:00:00</td>\n",
       "    </tr>\n",
       "    <tr>\n",
       "      <th>2</th>\n",
       "      <td>2016-0003</td>\n",
       "      <td>1</td>\n",
       "      <td>2016-01-03</td>\n",
       "      <td>7</td>\n",
       "      <td>AV ENTRE RIOS 2034</td>\n",
       "      <td>AVENIDA</td>\n",
       "      <td>ENTRE RIOS AV.</td>\n",
       "      <td>2034.0</td>\n",
       "      <td>NaN</td>\n",
       "      <td>ENTRE RIOS AV. 2034</td>\n",
       "      <td>...</td>\n",
       "      <td>-34.63189362</td>\n",
       "      <td>MOTO-AUTO</td>\n",
       "      <td>MOTO</td>\n",
       "      <td>AUTO</td>\n",
       "      <td>2016-01-03</td>\n",
       "      <td>CONDUCTOR</td>\n",
       "      <td>MOTO</td>\n",
       "      <td>MASCULINO</td>\n",
       "      <td>30</td>\n",
       "      <td>2016-01-03 00:00:00</td>\n",
       "    </tr>\n",
       "    <tr>\n",
       "      <th>3</th>\n",
       "      <td>2016-0004</td>\n",
       "      <td>1</td>\n",
       "      <td>2016-01-10</td>\n",
       "      <td>0</td>\n",
       "      <td>AV LARRAZABAL Y GRAL VILLEGAS CONRADO</td>\n",
       "      <td>AVENIDA</td>\n",
       "      <td>LARRAZABAL AV.</td>\n",
       "      <td>NaN</td>\n",
       "      <td>VILLEGAS, CONRADO, GRAL.</td>\n",
       "      <td>LARRAZABAL AV. y VILLEGAS, CONRADO, GRAL.</td>\n",
       "      <td>...</td>\n",
       "      <td>-34.68092974</td>\n",
       "      <td>MOTO-SD</td>\n",
       "      <td>MOTO</td>\n",
       "      <td>SD</td>\n",
       "      <td>2016-01-10</td>\n",
       "      <td>CONDUCTOR</td>\n",
       "      <td>MOTO</td>\n",
       "      <td>MASCULINO</td>\n",
       "      <td>18</td>\n",
       "      <td>SD</td>\n",
       "    </tr>\n",
       "  </tbody>\n",
       "</table>\n",
       "<p>4 rows × 22 columns</p>\n",
       "</div>"
      ],
      "text/plain": [
       "          ID  N_VICTIMAS     FECHA_x HH  \\\n",
       "0  2016-0001           1  2016-01-01  4   \n",
       "1  2016-0002           1  2016-01-02  1   \n",
       "2  2016-0003           1  2016-01-03  7   \n",
       "3  2016-0004           1  2016-01-10  0   \n",
       "\n",
       "                             LUGAR_DEL_HECHO TIPO_DE_CALLE             Calle  \\\n",
       "0  AV PIEDRA BUENA Y AV FERNANDEZ DE LA CRUZ       AVENIDA  PIEDRA BUENA AV.   \n",
       "1          AV GRAL PAZ  Y AV DE LOS CORRALES      GRAL PAZ    PAZ, GRAL. AV.   \n",
       "2                         AV ENTRE RIOS 2034       AVENIDA    ENTRE RIOS AV.   \n",
       "3      AV LARRAZABAL Y GRAL VILLEGAS CONRADO       AVENIDA    LARRAZABAL AV.   \n",
       "\n",
       "   Altura                                Cruce  \\\n",
       "0     NaN  FERNANDEZ DE LA CRUZ, F., GRAL. AV.   \n",
       "1     NaN                  DE LOS CORRALES AV.   \n",
       "2  2034.0                                  NaN   \n",
       "3     NaN             VILLEGAS, CONRADO, GRAL.   \n",
       "\n",
       "                               Dirección Normalizada  ...         pos y  \\\n",
       "0  PIEDRA BUENA AV. y FERNANDEZ DE LA CRUZ, F., G...  ...  -34.68757022   \n",
       "1               PAZ, GRAL. AV. y DE LOS CORRALES AV.  ...  -34.66977709   \n",
       "2                                ENTRE RIOS AV. 2034  ...  -34.63189362   \n",
       "3          LARRAZABAL AV. y VILLEGAS, CONRADO, GRAL.  ...  -34.68092974   \n",
       "\n",
       "    PARTICIPANTES VICTIMA_x    ACUSADO     FECHA_y        ROL VICTIMA_y  \\\n",
       "0       MOTO-AUTO      MOTO       AUTO  2016-01-01  CONDUCTOR      MOTO   \n",
       "1  AUTO-PASAJEROS      AUTO  PASAJEROS  2016-01-02  CONDUCTOR      AUTO   \n",
       "2       MOTO-AUTO      MOTO       AUTO  2016-01-03  CONDUCTOR      MOTO   \n",
       "3         MOTO-SD      MOTO         SD  2016-01-10  CONDUCTOR      MOTO   \n",
       "\n",
       "        SEXO EDAD  FECHA_FALLECIMIENTO  \n",
       "0  MASCULINO   19  2016-01-01 00:00:00  \n",
       "1  MASCULINO   70  2016-01-02 00:00:00  \n",
       "2  MASCULINO   30  2016-01-03 00:00:00  \n",
       "3  MASCULINO   18                   SD  \n",
       "\n",
       "[4 rows x 22 columns]"
      ]
     },
     "execution_count": 17,
     "metadata": {},
     "output_type": "execute_result"
    }
   ],
   "source": [
    "df_union.head(4)                    #Reviso la información del nuevo Dataframe"
   ]
  },
  {
   "cell_type": "code",
   "execution_count": 18,
   "metadata": {},
   "outputs": [
    {
     "name": "stdout",
     "output_type": "stream",
     "text": [
      "<class 'pandas.core.frame.DataFrame'>\n",
      "RangeIndex: 717 entries, 0 to 716\n",
      "Data columns (total 22 columns):\n",
      " #   Column                 Non-Null Count  Dtype  \n",
      "---  ------                 --------------  -----  \n",
      " 0   ID                     717 non-null    object \n",
      " 1   N_VICTIMAS             717 non-null    int64  \n",
      " 2   FECHA_x                717 non-null    object \n",
      " 3   HH                     717 non-null    object \n",
      " 4   LUGAR_DEL_HECHO        717 non-null    object \n",
      " 5   TIPO_DE_CALLE          717 non-null    object \n",
      " 6   Calle                  716 non-null    object \n",
      " 7   Altura                 133 non-null    float64\n",
      " 8   Cruce                  540 non-null    object \n",
      " 9   Dirección Normalizada  708 non-null    object \n",
      " 10  COMUNA                 717 non-null    int64  \n",
      " 11  pos x                  717 non-null    object \n",
      " 12  pos y                  717 non-null    object \n",
      " 13  PARTICIPANTES          717 non-null    object \n",
      " 14  VICTIMA_x              717 non-null    object \n",
      " 15  ACUSADO                717 non-null    object \n",
      " 16  FECHA_y                717 non-null    object \n",
      " 17  ROL                    717 non-null    object \n",
      " 18  VICTIMA_y              717 non-null    object \n",
      " 19  SEXO                   717 non-null    object \n",
      " 20  EDAD                   717 non-null    object \n",
      " 21  FECHA_FALLECIMIENTO    717 non-null    object \n",
      "dtypes: float64(1), int64(2), object(19)\n",
      "memory usage: 123.4+ KB\n"
     ]
    }
   ],
   "source": [
    "df_union.info()                             #Reviso la nueva estructura de las columnas"
   ]
  },
  {
   "cell_type": "markdown",
   "metadata": {},
   "source": [
    "### Eliminamos las columnas duplicadas"
   ]
  },
  {
   "cell_type": "code",
   "execution_count": 20,
   "metadata": {},
   "outputs": [],
   "source": [
    "eliminar_columnas = ['FECHA_y', 'VICTIMA_y']\n",
    "df_union = df_union.drop(eliminar_columnas, axis = 1)"
   ]
  },
  {
   "cell_type": "code",
   "execution_count": 21,
   "metadata": {},
   "outputs": [
    {
     "data": {
      "text/plain": [
       "Index(['ID', 'N_VICTIMAS', 'FECHA_x', 'HH', 'LUGAR_DEL_HECHO', 'TIPO_DE_CALLE',\n",
       "       'Calle', 'Altura', 'Cruce', 'Dirección Normalizada', 'COMUNA', 'pos x',\n",
       "       'pos y', 'PARTICIPANTES', 'VICTIMA_x', 'ACUSADO', 'ROL', 'SEXO', 'EDAD',\n",
       "       'FECHA_FALLECIMIENTO'],\n",
       "      dtype='object')"
      ]
     },
     "execution_count": 21,
     "metadata": {},
     "output_type": "execute_result"
    }
   ],
   "source": [
    "df_union.columns                                #Revisamos las columnas finales"
   ]
  },
  {
   "cell_type": "markdown",
   "metadata": {},
   "source": [
    "#### Revisamos registros duplicados de la columna 'ID'"
   ]
  },
  {
   "cell_type": "code",
   "execution_count": 22,
   "metadata": {},
   "outputs": [
    {
     "name": "stdout",
     "output_type": "stream",
     "text": [
      "Número de registros duplicados en la columna 'ID': 21\n"
     ]
    }
   ],
   "source": [
    "num_registros_duplicados = df_union.duplicated(subset=['ID']).sum()                     #Filtramos los registros duplicados para saber la cantidad\n",
    "print(\"Número de registros duplicados en la columna 'ID':\", num_registros_duplicados)   #Mostramos los registros duplicados"
   ]
  },
  {
   "cell_type": "code",
   "execution_count": 23,
   "metadata": {},
   "outputs": [
    {
     "data": {
      "text/plain": [
       "(717, 20)"
      ]
     },
     "execution_count": 23,
     "metadata": {},
     "output_type": "execute_result"
    }
   ],
   "source": [
    "df_union.shape                                                                          #Reviso el frame"
   ]
  },
  {
   "cell_type": "markdown",
   "metadata": {},
   "source": [
    "### Elimino registros duplicados en la columna 'ID'"
   ]
  },
  {
   "cell_type": "code",
   "execution_count": 24,
   "metadata": {},
   "outputs": [],
   "source": [
    "df_union.drop_duplicates(subset=['ID'], keep='first', inplace=True)     #elimino registros duplicados dentro del dataframe original"
   ]
  },
  {
   "cell_type": "code",
   "execution_count": 25,
   "metadata": {},
   "outputs": [
    {
     "data": {
      "text/plain": [
       "(696, 20)"
      ]
     },
     "execution_count": 25,
     "metadata": {},
     "output_type": "execute_result"
    }
   ],
   "source": [
    "df_union.shape                                                          #Reviso nueva estructura del frame"
   ]
  },
  {
   "cell_type": "markdown",
   "metadata": {},
   "source": [
    "### Reviso el tipo de dato de la columna 'VICTIMA_X'"
   ]
  },
  {
   "cell_type": "code",
   "execution_count": 26,
   "metadata": {},
   "outputs": [
    {
     "name": "stdout",
     "output_type": "stream",
     "text": [
      "['MOTO' 'AUTO' 'PEATON' 'SD' 'CARGAS' 'BICICLETA' 'PASAJEROS' 'MOVIL'\n",
      " 'OBJETO FIJO' 'PEATON_MOTO']\n"
     ]
    }
   ],
   "source": [
    "valores_unicos_victima_x = df_union['VICTIMA_x'].unique()\n",
    "print(valores_unicos_victima_x)"
   ]
  },
  {
   "cell_type": "markdown",
   "metadata": {},
   "source": [
    "### Estadarizo los valores únicos de la columna 'VICTIMA_x'"
   ]
  },
  {
   "cell_type": "code",
   "execution_count": 27,
   "metadata": {},
   "outputs": [],
   "source": [
    "df_union['VICTIMA_x'] = df_union['VICTIMA_x'].replace(['PEATON_MOTO'], 'SD')\n",
    "df_union['VICTIMA_x'] = df_union['VICTIMA_x'].replace(['OBJETO FIJO'], 'SD')"
   ]
  },
  {
   "cell_type": "markdown",
   "metadata": {},
   "source": [
    "### Verifico el tipo de valores de la columna 'EDAD'"
   ]
  },
  {
   "cell_type": "code",
   "execution_count": 28,
   "metadata": {},
   "outputs": [
    {
     "name": "stdout",
     "output_type": "stream",
     "text": [
      "['19' '70' '30' '18' '29' '22' '16' '59' '65' '34' '41' '50' '38' '21'\n",
      " '52' '36' '20' '54' '56' '24' 'SD' '78' '79' '26' '57' '37' '58' '23'\n",
      " '60' '42' '53' '51' '40' '87' '76' '75' '35' '80' '43' '45' '67' '27'\n",
      " '55' '49' '81' '25' '33' '46' '83' '39' '28' '7' '48' '4' '82' '32' '17'\n",
      " '47' '61' '10' '95' '73' '84' '66' '85' '1' '15' '13' '77' '44' '31' '62'\n",
      " '74' '71' '11' '86' '69' '72' '12' '63' '92' '68' '91' '64' '5' '88']\n"
     ]
    }
   ],
   "source": [
    "valores_unicos_victima_x = df_union['EDAD'].unique()            #Reviso los valores de la columna 'EDAD'\n",
    "print(valores_unicos_victima_x)"
   ]
  },
  {
   "cell_type": "markdown",
   "metadata": {},
   "source": [
    "#### Reemplazo los valores erróneos de la columna 'EDAD'"
   ]
  },
  {
   "cell_type": "code",
   "execution_count": 29,
   "metadata": {},
   "outputs": [],
   "source": [
    "df_union['EDAD'] = df_union['EDAD'].replace(['SD'], '')"
   ]
  },
  {
   "cell_type": "markdown",
   "metadata": {},
   "source": [
    "### Verifico el tipo de valores de la columna 'ACUSADO'"
   ]
  },
  {
   "cell_type": "code",
   "execution_count": 30,
   "metadata": {},
   "outputs": [
    {
     "name": "stdout",
     "output_type": "stream",
     "text": [
      "['AUTO' 'PASAJEROS' 'SD' 'OBJETO FIJO' 'CARGAS' 'MOTO' 'MULTIPLE' 'OTRO'\n",
      " 'BICICLETA' 'TREN']\n"
     ]
    }
   ],
   "source": [
    "valores_unicos_victima_x = df_union['ACUSADO'].unique()             #Verifico los datos de la columna 'ACUSADO'\n",
    "print(valores_unicos_victima_x)"
   ]
  },
  {
   "cell_type": "markdown",
   "metadata": {},
   "source": [
    "#### Reemplazo los valores erróneos de la columna 'ACUSADO'"
   ]
  },
  {
   "cell_type": "code",
   "execution_count": 31,
   "metadata": {},
   "outputs": [],
   "source": [
    "df_union['ACUSADO'] = df_union['ACUSADO'].replace(['OBJETO FIJO'], 'SD')"
   ]
  },
  {
   "cell_type": "markdown",
   "metadata": {},
   "source": [
    "### Verifico datos faltantes"
   ]
  },
  {
   "cell_type": "code",
   "execution_count": 32,
   "metadata": {},
   "outputs": [
    {
     "data": {
      "text/plain": [
       "ID                         0\n",
       "N_VICTIMAS                 0\n",
       "FECHA_x                    0\n",
       "HH                         0\n",
       "LUGAR_DEL_HECHO            0\n",
       "TIPO_DE_CALLE              0\n",
       "Calle                      1\n",
       "Altura                   567\n",
       "Cruce                    171\n",
       "Dirección Normalizada      8\n",
       "COMUNA                     0\n",
       "pos x                      0\n",
       "pos y                      0\n",
       "PARTICIPANTES              0\n",
       "VICTIMA_x                  0\n",
       "ACUSADO                    0\n",
       "ROL                        0\n",
       "SEXO                       0\n",
       "EDAD                       0\n",
       "FECHA_FALLECIMIENTO        0\n",
       "dtype: int64"
      ]
     },
     "execution_count": 32,
     "metadata": {},
     "output_type": "execute_result"
    }
   ],
   "source": [
    "df_union.isna().sum()"
   ]
  },
  {
   "cell_type": "markdown",
   "metadata": {},
   "source": [
    "#### La columna 'Altura' tiene el 82% de los datos faltantes por lo que se procede a eliminarla"
   ]
  },
  {
   "cell_type": "code",
   "execution_count": 33,
   "metadata": {},
   "outputs": [],
   "source": [
    "df_union = df_union.drop(columns=['Altura'])                    # Eliminamos la columna 'Altura' "
   ]
  },
  {
   "cell_type": "markdown",
   "metadata": {},
   "source": [
    "### Verifico datos y columnas del Dataframe df_union"
   ]
  },
  {
   "cell_type": "code",
   "execution_count": 35,
   "metadata": {},
   "outputs": [
    {
     "name": "stdout",
     "output_type": "stream",
     "text": [
      "<class 'pandas.core.frame.DataFrame'>\n",
      "Index: 696 entries, 0 to 716\n",
      "Data columns (total 19 columns):\n",
      " #   Column                 Non-Null Count  Dtype \n",
      "---  ------                 --------------  ----- \n",
      " 0   ID                     696 non-null    object\n",
      " 1   N_VICTIMAS             696 non-null    int64 \n",
      " 2   FECHA_x                696 non-null    object\n",
      " 3   HH                     696 non-null    object\n",
      " 4   LUGAR_DEL_HECHO        696 non-null    object\n",
      " 5   TIPO_DE_CALLE          696 non-null    object\n",
      " 6   Calle                  695 non-null    object\n",
      " 7   Cruce                  525 non-null    object\n",
      " 8   Dirección Normalizada  688 non-null    object\n",
      " 9   COMUNA                 696 non-null    int64 \n",
      " 10  pos x                  696 non-null    object\n",
      " 11  pos y                  696 non-null    object\n",
      " 12  PARTICIPANTES          696 non-null    object\n",
      " 13  VICTIMA_x              696 non-null    object\n",
      " 14  ACUSADO                696 non-null    object\n",
      " 15  ROL                    696 non-null    object\n",
      " 16  SEXO                   696 non-null    object\n",
      " 17  EDAD                   696 non-null    object\n",
      " 18  FECHA_FALLECIMIENTO    696 non-null    object\n",
      "dtypes: int64(2), object(17)\n",
      "memory usage: 108.8+ KB\n"
     ]
    }
   ],
   "source": [
    "df_union.info()"
   ]
  },
  {
   "cell_type": "code",
   "execution_count": 36,
   "metadata": {},
   "outputs": [
    {
     "data": {
      "text/plain": [
       "ID                         0\n",
       "N_VICTIMAS                 0\n",
       "FECHA_x                    0\n",
       "HH                         0\n",
       "LUGAR_DEL_HECHO            0\n",
       "TIPO_DE_CALLE              0\n",
       "Calle                      1\n",
       "Cruce                    171\n",
       "Dirección Normalizada      8\n",
       "COMUNA                     0\n",
       "pos x                      0\n",
       "pos y                      0\n",
       "PARTICIPANTES              0\n",
       "VICTIMA_x                  0\n",
       "ACUSADO                    0\n",
       "ROL                        0\n",
       "SEXO                       0\n",
       "EDAD                       0\n",
       "FECHA_FALLECIMIENTO        0\n",
       "dtype: int64"
      ]
     },
     "execution_count": 36,
     "metadata": {},
     "output_type": "execute_result"
    }
   ],
   "source": [
    "df_union.isna().sum()"
   ]
  },
  {
   "cell_type": "markdown",
   "metadata": {},
   "source": [
    "#### Revisamos el registro nulo en 'Calle' "
   ]
  },
  {
   "cell_type": "code",
   "execution_count": 37,
   "metadata": {},
   "outputs": [
    {
     "name": "stdout",
     "output_type": "stream",
     "text": [
      "Registro donde 'Calle' es nulo:\n"
     ]
    },
    {
     "data": {
      "text/html": [
       "<div>\n",
       "<style scoped>\n",
       "    .dataframe tbody tr th:only-of-type {\n",
       "        vertical-align: middle;\n",
       "    }\n",
       "\n",
       "    .dataframe tbody tr th {\n",
       "        vertical-align: top;\n",
       "    }\n",
       "\n",
       "    .dataframe thead th {\n",
       "        text-align: right;\n",
       "    }\n",
       "</style>\n",
       "<table border=\"1\" class=\"dataframe\">\n",
       "  <thead>\n",
       "    <tr style=\"text-align: right;\">\n",
       "      <th></th>\n",
       "      <th>ID</th>\n",
       "      <th>N_VICTIMAS</th>\n",
       "      <th>FECHA_x</th>\n",
       "      <th>HH</th>\n",
       "      <th>LUGAR_DEL_HECHO</th>\n",
       "      <th>TIPO_DE_CALLE</th>\n",
       "      <th>Calle</th>\n",
       "      <th>Cruce</th>\n",
       "      <th>Dirección Normalizada</th>\n",
       "      <th>COMUNA</th>\n",
       "      <th>pos x</th>\n",
       "      <th>pos y</th>\n",
       "      <th>PARTICIPANTES</th>\n",
       "      <th>VICTIMA_x</th>\n",
       "      <th>ACUSADO</th>\n",
       "      <th>ROL</th>\n",
       "      <th>SEXO</th>\n",
       "      <th>EDAD</th>\n",
       "      <th>FECHA_FALLECIMIENTO</th>\n",
       "    </tr>\n",
       "  </thead>\n",
       "  <tbody>\n",
       "    <tr>\n",
       "      <th>121</th>\n",
       "      <td>2016-0151</td>\n",
       "      <td>1</td>\n",
       "      <td>2016-11-18</td>\n",
       "      <td>20</td>\n",
       "      <td>SD</td>\n",
       "      <td>CALLE</td>\n",
       "      <td>NaN</td>\n",
       "      <td>NaN</td>\n",
       "      <td>NaN</td>\n",
       "      <td>0</td>\n",
       "      <td>.</td>\n",
       "      <td>.</td>\n",
       "      <td>PEATON-SD</td>\n",
       "      <td>PEATON</td>\n",
       "      <td>SD</td>\n",
       "      <td>PEATON</td>\n",
       "      <td>SD</td>\n",
       "      <td></td>\n",
       "      <td>SD</td>\n",
       "    </tr>\n",
       "  </tbody>\n",
       "</table>\n",
       "</div>"
      ],
      "text/plain": [
       "            ID  N_VICTIMAS     FECHA_x  HH LUGAR_DEL_HECHO TIPO_DE_CALLE  \\\n",
       "121  2016-0151           1  2016-11-18  20              SD         CALLE   \n",
       "\n",
       "    Calle Cruce Dirección Normalizada  COMUNA pos x pos y PARTICIPANTES  \\\n",
       "121   NaN   NaN                   NaN       0     .     .     PEATON-SD   \n",
       "\n",
       "    VICTIMA_x ACUSADO     ROL SEXO EDAD FECHA_FALLECIMIENTO  \n",
       "121    PEATON      SD  PEATON   SD                       SD  "
      ]
     },
     "execution_count": 37,
     "metadata": {},
     "output_type": "execute_result"
    }
   ],
   "source": [
    "registro_calle_nula = df_union[df_union['Calle'].isnull()]          # Muestra el registro donde 'Calle' es nulo\n",
    "print(\"Registro donde 'Calle' es nulo:\")\n",
    "registro_calle_nula"
   ]
  },
  {
   "cell_type": "markdown",
   "metadata": {},
   "source": [
    "#### Para el registro nulo en campo 'Calle' vemos que falta mucha información en general, por lo que decidimos anular dicho registro"
   ]
  },
  {
   "cell_type": "code",
   "execution_count": 38,
   "metadata": {},
   "outputs": [],
   "source": [
    "df_union.dropna(subset=['Calle'], inplace=True)                 # Eliminar el registro donde 'Calle' es nulo"
   ]
  },
  {
   "cell_type": "code",
   "execution_count": 39,
   "metadata": {},
   "outputs": [
    {
     "name": "stdout",
     "output_type": "stream",
     "text": [
      "<class 'pandas.core.frame.DataFrame'>\n",
      "Index: 695 entries, 0 to 716\n",
      "Data columns (total 19 columns):\n",
      " #   Column                 Non-Null Count  Dtype \n",
      "---  ------                 --------------  ----- \n",
      " 0   ID                     695 non-null    object\n",
      " 1   N_VICTIMAS             695 non-null    int64 \n",
      " 2   FECHA_x                695 non-null    object\n",
      " 3   HH                     695 non-null    object\n",
      " 4   LUGAR_DEL_HECHO        695 non-null    object\n",
      " 5   TIPO_DE_CALLE          695 non-null    object\n",
      " 6   Calle                  695 non-null    object\n",
      " 7   Cruce                  525 non-null    object\n",
      " 8   Dirección Normalizada  688 non-null    object\n",
      " 9   COMUNA                 695 non-null    int64 \n",
      " 10  pos x                  695 non-null    object\n",
      " 11  pos y                  695 non-null    object\n",
      " 12  PARTICIPANTES          695 non-null    object\n",
      " 13  VICTIMA_x              695 non-null    object\n",
      " 14  ACUSADO                695 non-null    object\n",
      " 15  ROL                    695 non-null    object\n",
      " 16  SEXO                   695 non-null    object\n",
      " 17  EDAD                   695 non-null    object\n",
      " 18  FECHA_FALLECIMIENTO    695 non-null    object\n",
      "dtypes: int64(2), object(17)\n",
      "memory usage: 108.6+ KB\n"
     ]
    }
   ],
   "source": [
    "df_union.info()"
   ]
  },
  {
   "cell_type": "markdown",
   "metadata": {},
   "source": [
    "### Cambio de nombre las columnas 'pos x' y 'pos y'"
   ]
  },
  {
   "cell_type": "code",
   "execution_count": 42,
   "metadata": {},
   "outputs": [],
   "source": [
    "df_union = df_union.rename(columns={'pos x': 'Longitud', 'pos y': 'Latitud'})       #Cambio los nombres por Longitud y Latitud"
   ]
  },
  {
   "cell_type": "code",
   "execution_count": 44,
   "metadata": {},
   "outputs": [],
   "source": [
    "dfx = df_union"
   ]
  },
  {
   "cell_type": "code",
   "execution_count": 45,
   "metadata": {},
   "outputs": [
    {
     "name": "stdout",
     "output_type": "stream",
     "text": [
      "<class 'pandas.core.frame.DataFrame'>\n",
      "Index: 695 entries, 0 to 716\n",
      "Data columns (total 19 columns):\n",
      " #   Column                 Non-Null Count  Dtype \n",
      "---  ------                 --------------  ----- \n",
      " 0   ID                     695 non-null    object\n",
      " 1   N_VICTIMAS             695 non-null    int64 \n",
      " 2   FECHA_x                695 non-null    object\n",
      " 3   HH                     695 non-null    object\n",
      " 4   LUGAR_DEL_HECHO        695 non-null    object\n",
      " 5   TIPO_DE_CALLE          695 non-null    object\n",
      " 6   Calle                  695 non-null    object\n",
      " 7   Cruce                  525 non-null    object\n",
      " 8   Dirección Normalizada  688 non-null    object\n",
      " 9   COMUNA                 695 non-null    int64 \n",
      " 10  Longitud               695 non-null    object\n",
      " 11  Latitud                695 non-null    object\n",
      " 12  PARTICIPANTES          695 non-null    object\n",
      " 13  VICTIMA_x              695 non-null    object\n",
      " 14  ACUSADO                695 non-null    object\n",
      " 15  ROL                    695 non-null    object\n",
      " 16  SEXO                   695 non-null    object\n",
      " 17  EDAD                   695 non-null    object\n",
      " 18  FECHA_FALLECIMIENTO    695 non-null    object\n",
      "dtypes: int64(2), object(17)\n",
      "memory usage: 108.6+ KB\n"
     ]
    }
   ],
   "source": [
    "dfx.info()"
   ]
  },
  {
   "cell_type": "markdown",
   "metadata": {},
   "source": [
    "## Guardo el dataframe final en un archivo .csv"
   ]
  },
  {
   "cell_type": "code",
   "execution_count": 51,
   "metadata": {},
   "outputs": [],
   "source": [
    "df_union.to_csv('datasets/hechos_victimas_depurados.csv', index = False)"
   ]
  }
 ],
 "metadata": {
  "kernelspec": {
   "display_name": "Python 3",
   "language": "python",
   "name": "python3"
  },
  "language_info": {
   "codemirror_mode": {
    "name": "ipython",
    "version": 3
   },
   "file_extension": ".py",
   "mimetype": "text/x-python",
   "name": "python",
   "nbconvert_exporter": "python",
   "pygments_lexer": "ipython3",
   "version": "3.11.8"
  }
 },
 "nbformat": 4,
 "nbformat_minor": 2
}
